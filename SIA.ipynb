{
 "cells": [
  {
   "cell_type": "code",
   "execution_count": 241,
   "metadata": {},
   "outputs": [],
   "source": [
    "import pandas as pd\n",
    "from selenium import webdriver\n",
    "from selenium.webdriver.common.by import By\n",
    "import time"
   ]
  },
  {
   "cell_type": "code",
   "execution_count": 242,
   "metadata": {},
   "outputs": [],
   "source": [
    "web ='https://autenticasia.unal.edu.co/oam/server/obrareq.cgi?encquery%3DITmL3CnDvt%2BhP02kyvCfC5jBLyssFT%2FyhSpflLDmXt70F9F0PzIaZPICUQ%2FDS49wd49Q9WHa3zbXUMWp7BzFb7TQMPjgxKlu7dL7qVqfTZDmGElzARDGLeViTLxoVRorq6mqATITJiCDwHhb%2Buvs5ZsvqRs1nnOzLRaYOjhtIgapaiXYwaPvQls2AwEjfat97LUQDokjD2kAEheHx9KUSTeNF1m1tQtglJwr45wznpA68MCcJj%2FC4GCREHjkzkh1%2BBeP5LhJfKTid%2BV76Ukll%2FUwe3CHtyuupKd1Clxv8WU%3D%20agentid%3DWTUNC_AWS%20ver%3D1%20crmethod%3D2&ECID-Context=1.00628gvrEPv6MQRMyYbe6G0005vR000OZK%3BkXjE'\n",
    "driver = webdriver.Chrome()\n",
    "driver.get(web)"
   ]
  },
  {
   "cell_type": "code",
   "execution_count": 243,
   "metadata": {},
   "outputs": [],
   "source": [
    "user_from = driver.find_element(By.ID, \"username\")\n",
    "pass_from = driver.find_element(By.ID, \"password\")\n",
    "\n",
    "iniciar_sesion = driver.find_element(By.XPATH, '//input[@value=\"Iniciar Sesión\"]')"
   ]
  },
  {
   "cell_type": "code",
   "execution_count": null,
   "metadata": {},
   "outputs": [],
   "source": [
    "user = input(\"Ingrese usuario\")\n",
    "pw = input(\"Ingrese contraseña\")"
   ]
  },
  {
   "cell_type": "code",
   "execution_count": 244,
   "metadata": {},
   "outputs": [],
   "source": [
    "user_from.send_keys(user)\n",
    "pass_from.send_keys(pw)\n",
    "iniciar_sesion.click()"
   ]
  },
  {
   "cell_type": "code",
   "execution_count": 245,
   "metadata": {},
   "outputs": [],
   "source": [
    "time.sleep(1)\n",
    "\n",
    "cursos = driver.find_element(By.XPATH, '//td[@title=\"Buscador de cursos\"]')\n",
    "cursos.click()\n",
    "\n",
    "time.sleep(1)\n",
    "\n",
    "cursos_search = driver.find_element(By.XPATH, '//a[@title=\"Buscador de cursos\"]')\n",
    "cursos_search.click()\n",
    "\n",
    "time.sleep(2)"
   ]
  },
  {
   "cell_type": "code",
   "execution_count": 246,
   "metadata": {},
   "outputs": [],
   "source": [
    "# Obtener las pestañas abiertas\n",
    "tabs = driver.window_handles\n",
    "\n",
    "# Cambiar a la segunda pestaña\n",
    "driver.switch_to.window(tabs[1])"
   ]
  },
  {
   "cell_type": "code",
   "execution_count": 247,
   "metadata": {},
   "outputs": [],
   "source": [
    "web = 'https://sia.unal.edu.co/Catalogo/facespublico/public/servicioPublico.jsf?taskflowId=task-flow-AC_CatalogoAsignaturas'"
   ]
  },
  {
   "cell_type": "code",
   "execution_count": 248,
   "metadata": {},
   "outputs": [],
   "source": [
    "from selenium.webdriver.support.ui import Select\n",
    "time.sleep(1)\n",
    "Select(driver.find_element(By.XPATH, '//*[@id=\"pt1:r1:0:soc1::content\"]')).select_by_visible_text(\"Pregrado\")\n",
    "time.sleep(1)\n",
    "\n",
    "Select(driver.find_element(By.XPATH, '//*[@id=\"pt1:r1:0:soc9::content\"]')).select_by_visible_text(\"1102 SEDE MEDELLÍN\")\n",
    "time.sleep(1)\n",
    "\n",
    "Select(driver.find_element(By.XPATH, '//*[@id=\"pt1:r1:0:soc2::content\"]')).select_by_visible_text(\"3068 FACULTAD DE MINAS\")\n",
    "time.sleep(1)\n",
    "\n",
    "Select(driver.find_element(By.XPATH, '//*[@id=\"pt1:r1:0:soc3::content\"]')).select_by_visible_text(\"3534 INGENIERÍA DE SISTEMAS E INFORMÁTICA\")\n",
    "time.sleep(1)\n",
    "\n",
    "\n",
    "driver.find_element(By.XPATH, '//*[@id=\"pt1:r1:0:cb1\"]/a').click()\n",
    "time.sleep(2)\n"
   ]
  },
  {
   "cell_type": "code",
   "execution_count": 249,
   "metadata": {},
   "outputs": [],
   "source": [
    "rows = driver.find_elements(By.XPATH, '//tr//td[contains(@class,\"af_column_data-cell\") or contains(@class,\"af_column_data-cell text-center\")]')"
   ]
  },
  {
   "cell_type": "code",
   "execution_count": 256,
   "metadata": {},
   "outputs": [
    {
     "data": {
      "text/html": [
       "<div>\n",
       "<style scoped>\n",
       "    .dataframe tbody tr th:only-of-type {\n",
       "        vertical-align: middle;\n",
       "    }\n",
       "\n",
       "    .dataframe tbody tr th {\n",
       "        vertical-align: top;\n",
       "    }\n",
       "\n",
       "    .dataframe thead th {\n",
       "        text-align: right;\n",
       "    }\n",
       "</style>\n",
       "<table border=\"1\" class=\"dataframe\">\n",
       "  <thead>\n",
       "    <tr style=\"text-align: right;\">\n",
       "      <th></th>\n",
       "      <th>Codigo</th>\n",
       "      <th>Nombre</th>\n",
       "      <th>Creditos</th>\n",
       "      <th>Tipo</th>\n",
       "      <th>Desc</th>\n",
       "    </tr>\n",
       "  </thead>\n",
       "  <tbody>\n",
       "  </tbody>\n",
       "</table>\n",
       "</div>"
      ],
      "text/plain": [
       "Empty DataFrame\n",
       "Columns: [Codigo, Nombre, Creditos, Tipo, Desc]\n",
       "Index: []"
      ]
     },
     "execution_count": 256,
     "metadata": {},
     "output_type": "execute_result"
    }
   ],
   "source": [
    "import pandas as pd\n",
    "\n",
    "materias = pd.DataFrame(columns=[\"Codigo\",\"Nombre\",\"Creditos\",\"Tipo\",\"Desc\"])\n",
    "materias"
   ]
  },
  {
   "cell_type": "code",
   "execution_count": 257,
   "metadata": {},
   "outputs": [],
   "source": [
    "c=0\n",
    "for i in range(0, len(rows), 5):\n",
    "    row = rows[i:i+5]\n",
    "    materias.loc[c] = {'Codigo': row[0].text , 'Nombre': row[1].text , \"Creditos\" : row[2].text , \"Tipo\" : row[3].text , \"Desc\" : row[4].text }\n",
    "    c+=1"
   ]
  },
  {
   "cell_type": "code",
   "execution_count": 258,
   "metadata": {},
   "outputs": [
    {
     "data": {
      "text/html": [
       "<div>\n",
       "<style scoped>\n",
       "    .dataframe tbody tr th:only-of-type {\n",
       "        vertical-align: middle;\n",
       "    }\n",
       "\n",
       "    .dataframe tbody tr th {\n",
       "        vertical-align: top;\n",
       "    }\n",
       "\n",
       "    .dataframe thead th {\n",
       "        text-align: right;\n",
       "    }\n",
       "</style>\n",
       "<table border=\"1\" class=\"dataframe\">\n",
       "  <thead>\n",
       "    <tr style=\"text-align: right;\">\n",
       "      <th></th>\n",
       "      <th>Codigo</th>\n",
       "      <th>Nombre</th>\n",
       "      <th>Creditos</th>\n",
       "      <th>Tipo</th>\n",
       "      <th>Desc</th>\n",
       "    </tr>\n",
       "  </thead>\n",
       "  <tbody>\n",
       "    <tr>\n",
       "      <th>0</th>\n",
       "      <td>1000003-M</td>\n",
       "      <td>ÁLGEBRA LINEAL</td>\n",
       "      <td>4</td>\n",
       "      <td>FUND. OBLIGATORIA (B)</td>\n",
       "      <td>OBJETIVO Asimilar los fundamentos del Algebra ...</td>\n",
       "    </tr>\n",
       "    <tr>\n",
       "      <th>1</th>\n",
       "      <td>3009430</td>\n",
       "      <td>Análisis y Diseño de Algoritmos\\nASIGNATURA SI...</td>\n",
       "      <td>3</td>\n",
       "      <td>DISCIPLINAR OPTATIVA (T)</td>\n",
       "      <td>Cualquiera con una experiencia mínima en algor...</td>\n",
       "    </tr>\n",
       "    <tr>\n",
       "      <th>2</th>\n",
       "      <td>3007847</td>\n",
       "      <td>BASE DE DATOS I</td>\n",
       "      <td>3</td>\n",
       "      <td>DISCIPLINAR OBLIGATORIA (C)</td>\n",
       "      <td>Objetivo general: Presentar los conceptos bási...</td>\n",
       "    </tr>\n",
       "    <tr>\n",
       "      <th>3</th>\n",
       "      <td>3007848</td>\n",
       "      <td>BASE DE DATOS II\\nASIGNATURA SIN PROGRAMAR</td>\n",
       "      <td>3</td>\n",
       "      <td>DISCIPLINAR OPTATIVA (T)</td>\n",
       "      <td>El objetivo general de la asignatura es amplia...</td>\n",
       "    </tr>\n",
       "    <tr>\n",
       "      <th>4</th>\n",
       "      <td>1000009-M</td>\n",
       "      <td>BIOLOGÍA GENERAL</td>\n",
       "      <td>3</td>\n",
       "      <td>FUND. OPTATIVA (O)</td>\n",
       "      <td>El curso tiene un enfoque teórico práctico, qu...</td>\n",
       "    </tr>\n",
       "    <tr>\n",
       "      <th>...</th>\n",
       "      <td>...</td>\n",
       "      <td>...</td>\n",
       "      <td>...</td>\n",
       "      <td>...</td>\n",
       "      <td>...</td>\n",
       "    </tr>\n",
       "    <tr>\n",
       "      <th>91</th>\n",
       "      <td>3010425</td>\n",
       "      <td>Teoría administrativa y organizacional</td>\n",
       "      <td>3</td>\n",
       "      <td>DISCIPLINAR OPTATIVA (T)</td>\n",
       "      <td>OBJETIVOS CENTRALES DEL CURSO : 1) Reflexionar...</td>\n",
       "    </tr>\n",
       "    <tr>\n",
       "      <th>92</th>\n",
       "      <td>3007873</td>\n",
       "      <td>TEORÍA DE LA ORGANIZACIÓN INDUSTRIAL\\nASIGNATU...</td>\n",
       "      <td>3</td>\n",
       "      <td>DISCIPLINAR OPTATIVA (T)</td>\n",
       "      <td>El objetivo general de esta asignatura es fami...</td>\n",
       "    </tr>\n",
       "    <tr>\n",
       "      <th>93</th>\n",
       "      <td>3010426</td>\n",
       "      <td>Teoría de lenguajes de programación</td>\n",
       "      <td>3</td>\n",
       "      <td>DISCIPLINAR OBLIGATORIA (C)</td>\n",
       "      <td>Descripción y Objetivos: Este curso tiene como...</td>\n",
       "    </tr>\n",
       "    <tr>\n",
       "      <th>94</th>\n",
       "      <td>3007868</td>\n",
       "      <td>TRABAJO DE GRADO</td>\n",
       "      <td>6</td>\n",
       "      <td>TRABAJO DE GRADO (P)</td>\n",
       "      <td></td>\n",
       "    </tr>\n",
       "    <tr>\n",
       "      <th>95</th>\n",
       "      <td>3007862</td>\n",
       "      <td>VISIÓN ARTIFICIAL\\nASIGNATURA SIN PROGRAMAR</td>\n",
       "      <td>3</td>\n",
       "      <td>DISCIPLINAR OPTATIVA (T)</td>\n",
       "      <td>El objetivo general de la asignatura es introd...</td>\n",
       "    </tr>\n",
       "  </tbody>\n",
       "</table>\n",
       "<p>96 rows × 5 columns</p>\n",
       "</div>"
      ],
      "text/plain": [
       "       Codigo                                             Nombre Creditos  \\\n",
       "0   1000003-M                                     ÁLGEBRA LINEAL        4   \n",
       "1     3009430  Análisis y Diseño de Algoritmos\\nASIGNATURA SI...        3   \n",
       "2     3007847                                    BASE DE DATOS I        3   \n",
       "3     3007848         BASE DE DATOS II\\nASIGNATURA SIN PROGRAMAR        3   \n",
       "4   1000009-M                                   BIOLOGÍA GENERAL        3   \n",
       "..        ...                                                ...      ...   \n",
       "91    3010425             Teoría administrativa y organizacional        3   \n",
       "92    3007873  TEORÍA DE LA ORGANIZACIÓN INDUSTRIAL\\nASIGNATU...        3   \n",
       "93    3010426                Teoría de lenguajes de programación        3   \n",
       "94    3007868                                   TRABAJO DE GRADO        6   \n",
       "95    3007862        VISIÓN ARTIFICIAL\\nASIGNATURA SIN PROGRAMAR        3   \n",
       "\n",
       "                           Tipo  \\\n",
       "0         FUND. OBLIGATORIA (B)   \n",
       "1      DISCIPLINAR OPTATIVA (T)   \n",
       "2   DISCIPLINAR OBLIGATORIA (C)   \n",
       "3      DISCIPLINAR OPTATIVA (T)   \n",
       "4            FUND. OPTATIVA (O)   \n",
       "..                          ...   \n",
       "91     DISCIPLINAR OPTATIVA (T)   \n",
       "92     DISCIPLINAR OPTATIVA (T)   \n",
       "93  DISCIPLINAR OBLIGATORIA (C)   \n",
       "94         TRABAJO DE GRADO (P)   \n",
       "95     DISCIPLINAR OPTATIVA (T)   \n",
       "\n",
       "                                                 Desc  \n",
       "0   OBJETIVO Asimilar los fundamentos del Algebra ...  \n",
       "1   Cualquiera con una experiencia mínima en algor...  \n",
       "2   Objetivo general: Presentar los conceptos bási...  \n",
       "3   El objetivo general de la asignatura es amplia...  \n",
       "4   El curso tiene un enfoque teórico práctico, qu...  \n",
       "..                                                ...  \n",
       "91  OBJETIVOS CENTRALES DEL CURSO : 1) Reflexionar...  \n",
       "92  El objetivo general de esta asignatura es fami...  \n",
       "93  Descripción y Objetivos: Este curso tiene como...  \n",
       "94                                                     \n",
       "95  El objetivo general de la asignatura es introd...  \n",
       "\n",
       "[96 rows x 5 columns]"
      ]
     },
     "execution_count": 258,
     "metadata": {},
     "output_type": "execute_result"
    }
   ],
   "source": [
    "materias"
   ]
  },
  {
   "cell_type": "code",
   "execution_count": 260,
   "metadata": {},
   "outputs": [],
   "source": [
    "materias.to_csv(\"Materias_IngSistemas.csv\", index=False)"
   ]
  }
 ],
 "metadata": {
  "kernelspec": {
   "display_name": "Python 3",
   "language": "python",
   "name": "python3"
  },
  "language_info": {
   "codemirror_mode": {
    "name": "ipython",
    "version": 3
   },
   "file_extension": ".py",
   "mimetype": "text/x-python",
   "name": "python",
   "nbconvert_exporter": "python",
   "pygments_lexer": "ipython3",
   "version": "3.11.6"
  }
 },
 "nbformat": 4,
 "nbformat_minor": 2
}
